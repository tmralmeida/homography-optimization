{
 "cells": [
  {
   "cell_type": "code",
   "execution_count": 114,
   "metadata": {},
   "outputs": [],
   "source": [
    "import json \n",
    "import matplotlib.pyplot as plt\n",
    "import numpy as np\n",
    "import torch"
   ]
  },
  {
   "cell_type": "markdown",
   "metadata": {},
   "source": [
    "# Data loading "
   ]
  },
  {
   "cell_type": "code",
   "execution_count": 115,
   "metadata": {},
   "outputs": [],
   "source": [
    "def load_data(path):\n",
    "    with open(path) as f:\n",
    "        data = json.load(f)\n",
    "    data = json.loads(data)\n",
    "    return data"
   ]
  },
  {
   "cell_type": "code",
   "execution_count": 116,
   "metadata": {},
   "outputs": [],
   "source": [
    "data_right = load_data('transforms_right.json')\n",
    "data_left = load_data('transforms_left.json')"
   ]
  },
  {
   "cell_type": "markdown",
   "metadata": {},
   "source": [
    "### Data organization"
   ]
  },
  {
   "cell_type": "code",
   "execution_count": 68,
   "metadata": {},
   "outputs": [],
   "source": [
    "NUM_SAMPLES = 100\n",
    "initial_points_right = []\n",
    "initial_points_left = []\n",
    "final_points_right = []\n",
    "final_points_left = []\n",
    "H_rc = []\n",
    "H_lc = []\n",
    "for i in range(NUM_SAMPLES):\n",
    "    initial_points_right.append(data_right[\"sample \"+str(i)][\"lateral corners\"])\n",
    "    initial_points_left.append(data_left[\"sample \"+str(i)][\"lateral corners\"])\n",
    "    final_points_right.append(data_right[\"sample \"+str(i)][\"center corners\"])\n",
    "    final_points_left.append(data_left[\"sample \"+str(i)][\"center corners\"])\n",
    "    H_rc.append(data_right[\"sample \"+str(i)][\"Transformation\"])\n",
    "    H_lc.append(data_left[\"sample \"+str(i)][\"Transformation\"])"
   ]
  },
  {
   "cell_type": "markdown",
   "metadata": {},
   "source": [
    "# Optimization Procedure"
   ]
  },
  {
   "cell_type": "code",
   "execution_count": 69,
   "metadata": {},
   "outputs": [],
   "source": [
    "def preprocessing_data(data):\n",
    "    data_arr = []\n",
    "    for i in range(len(data)):\n",
    "        data_ = np.array(data[i]).squeeze(2)\n",
    "        data_arr.append(data_)\n",
    "    return data_arr"
   ]
  },
  {
   "cell_type": "code",
   "execution_count": 70,
   "metadata": {
    "scrolled": true
   },
   "outputs": [],
   "source": [
    "initial_points_right_, final_points_right_, initial_points_left_, final_points_left_ = preprocessing_data([initial_points_right, \n",
    "                                                                                                       final_points_right, \n",
    "                                                                                                       initial_points_left, \n",
    "                                                                                                       final_points_left])  "
   ]
  },
  {
   "cell_type": "markdown",
   "metadata": {},
   "source": [
    "### Initial data visualization"
   ]
  },
  {
   "cell_type": "code",
   "execution_count": 117,
   "metadata": {},
   "outputs": [],
   "source": [
    "IDX = 80\n",
    "x_initial_r = [pts[0] for pts in initial_points_right_[IDX]]\n",
    "y_initial_r = [pts[1] for pts in initial_points_right_[IDX]]\n",
    "x_final_r = [pts[0] for pts in final_points_right_[IDX]]\n",
    "y_final_r = [pts[1] for pts in final_points_right_[IDX]]\n",
    "\n",
    "x_initial_l = [pts[0] for pts in initial_points_left_[IDX]]\n",
    "y_initial_l = [pts[1] for pts in initial_points_left_[IDX]]\n",
    "x_final_l = [pts[0] for pts in final_points_left_[IDX]]\n",
    "y_final_l = [pts[1] for pts in final_points_left_[IDX]]"
   ]
  },
  {
   "cell_type": "code",
   "execution_count": 141,
   "metadata": {},
   "outputs": [
    {
     "data": {
      "image/png": "[encoded data removed]",
      "text/plain": [
       "<Figure size 1080x360 with 2 Axes>"
      ]
     },
     "metadata": {},
     "output_type": "display_data"
    }
   ],
   "source": [
    "fig, (ax1,ax2) = plt.subplots(1,2, sharey=True,figsize=(15,5))\n",
    "ax1.scatter(x_initial_r, y_initial_r, s=3, color = 'b');\n",
    "ax1.scatter(x_final_r, y_final_r, s=3, color = 'r');\n",
    "ax1.set_title('Initial Points - right camera');\n",
    "ax2.scatter(x_initial_l, y_initial_l, s=3, color = 'b');\n",
    "ax2.scatter(x_final_l, y_final_l, s=3, color = 'r');\n",
    "ax2.set_title('Initial Points - left camera');"
   ]
  },
  {
   "cell_type": "code",
   "execution_count": 142,
   "metadata": {},
   "outputs": [],
   "source": [
    "def processing_torch_shapes(data):\n",
    "    data_arr = []\n",
    "    for i in range(len(data)):\n",
    "        data_ =  torch.from_numpy(data[i]).float()\n",
    "        data_ = torch.cat([data_, torch.ones(data_.shape[:2], dtype = torch.float32).unsqueeze(2)], dim = 2) \n",
    "        data_ = data_.reshape(-1,3).T\n",
    "        data_arr.append(data_)\n",
    "    return data_arr"
   ]
  },
  {
   "cell_type": "code",
   "execution_count": 143,
   "metadata": {},
   "outputs": [],
   "source": [
    "P1_r, P2_r, P1_l, P2_l = processing_torch_shapes([initial_points_right_, \n",
    "                                                  final_points_right_, \n",
    "                                                  initial_points_left_, \n",
    "                                                  final_points_left_])"
   ]
  },
  {
   "cell_type": "code",
   "execution_count": 144,
   "metadata": {},
   "outputs": [],
   "source": [
    "def normalize(x):\n",
    "    return x[:2]/x[2]"
   ]
  },
  {
   "cell_type": "code",
   "execution_count": 145,
   "metadata": {},
   "outputs": [],
   "source": [
    "def get_shaped_data(data, num_samples = 100):\n",
    "    A = np.vstack([\n",
    "    [\n",
    "      [ 0, 0, 0, -x * w_, -y * w_, - w * w_, x * y_, y * y_, w * y_ ],\n",
    "      [ x * w_, y * w_, w * w_, 0, 0, 0, -x * x_, -y * x_, -w * x_ ],\n",
    "    ]\n",
    "  for (x, y, w), (x_, y_, w_) in zip(data[0].T[:48*num_samples], data[1].T[:48*num_samples])\n",
    "])\n",
    "    return A    "
   ]
  },
  {
   "cell_type": "code",
   "execution_count": 146,
   "metadata": {},
   "outputs": [],
   "source": [
    "A_r = get_shaped_data([P1_r,P2_r])\n",
    "A_l = get_shaped_data([P1_l,P2_l])"
   ]
  },
  {
   "cell_type": "code",
   "execution_count": 147,
   "metadata": {},
   "outputs": [],
   "source": [
    "A_r = torch.from_numpy(A_r).float()\n",
    "A_l = torch.from_numpy(A_l).float()"
   ]
  },
  {
   "cell_type": "markdown",
   "metadata": {},
   "source": [
    "### First guess:"
   ]
  },
  {
   "cell_type": "code",
   "execution_count": 148,
   "metadata": {},
   "outputs": [
    {
     "data": {
      "text/plain": [
       "tensor([1., 0., 0., 0., 1., 0., 0., 0., 1.], requires_grad=True)"
      ]
     },
     "execution_count": 148,
     "metadata": {},
     "output_type": "execute_result"
    }
   ],
   "source": [
    "h = torch.eye(3,dtype=torch.float32)\n",
    "h = h.flatten()\n",
    "h.requires_grad_()"
   ]
  },
  {
   "cell_type": "code",
   "execution_count": 149,
   "metadata": {},
   "outputs": [
    {
     "data": {
      "text/plain": [
       "(tensor(78869.9141, grad_fn=<MeanBackward0>),\n",
       " tensor(65510.1406, grad_fn=<MeanBackward0>))"
      ]
     },
     "execution_count": 149,
     "metadata": {},
     "output_type": "execute_result"
    }
   ],
   "source": [
    "torch.mean((A_r @ h) ** 2),torch.mean((A_l @ h) ** 2)"
   ]
  },
  {
   "cell_type": "markdown",
   "metadata": {},
   "source": [
    "### Optimization"
   ]
  },
  {
   "cell_type": "code",
   "execution_count": 184,
   "metadata": {},
   "outputs": [],
   "source": [
    "optim = torch.optim.Adam([h], lr=1e-10)"
   ]
  },
  {
   "cell_type": "code",
   "execution_count": 185,
   "metadata": {},
   "outputs": [],
   "source": [
    "def loop_optim(A, h, optim, n_iter=100000):\n",
    "    for i in range(n_iter):\n",
    "        optim.zero_grad()\n",
    "        loss = torch.sum((A @ h) ** 2)\n",
    "        loss.backward()\n",
    "        optim.step()\n",
    "    return h"
   ]
  },
  {
   "cell_type": "markdown",
   "metadata": {},
   "source": [
    "Right camera:"
   ]
  },
  {
   "cell_type": "code",
   "execution_count": 162,
   "metadata": {},
   "outputs": [
    {
     "data": {
      "text/plain": [
       "tensor(0.0016, grad_fn=<MeanBackward0>)"
      ]
     },
     "execution_count": 162,
     "metadata": {},
     "output_type": "execute_result"
    }
   ],
   "source": [
    "hr_optimized = loop_optim(A_r, h, optim)\n",
    "last_loss_right = torch.mean((A_r @ hr_optimized) ** 2)\n",
    "last_loss_right"
   ]
  },
  {
   "cell_type": "code",
   "execution_count": 165,
   "metadata": {},
   "outputs": [],
   "source": [
    "hr_optimized = hr_optimized.detach().reshape(3,3).numpy()\n",
    "hr_optimized = hr_optimized/(hr_optimized[2,2])\n",
    "hr_optimized"
   ]
  },
  {
   "cell_type": "markdown",
   "metadata": {},
   "source": [
    "Left camera:"
   ]
  },
  {
   "cell_type": "code",
   "execution_count": 171,
   "metadata": {},
   "outputs": [
    {
     "data": {
      "text/plain": [
       "tensor([1., 0., 0., 0., 1., 0., 0., 0., 1.], requires_grad=True)"
      ]
     },
     "execution_count": 171,
     "metadata": {},
     "output_type": "execute_result"
    }
   ],
   "source": [
    "h = torch.eye(3,dtype=torch.float32)\n",
    "h = h.flatten()\n",
    "h.requires_grad_()"
   ]
  },
  {
   "cell_type": "code",
   "execution_count": 186,
   "metadata": {},
   "outputs": [
    {
     "data": {
      "text/plain": [
       "tensor(0.0020, grad_fn=<MeanBackward0>)"
      ]
     },
     "execution_count": 186,
     "metadata": {},
     "output_type": "execute_result"
    }
   ],
   "source": [
    "hl_optimized = loop_optim(A_l, h, optim)\n",
    "last_loss_left = torch.mean((A_l @ hl_optimized) ** 2)\n",
    "last_loss_left"
   ]
  },
  {
   "cell_type": "code",
   "execution_count": 187,
   "metadata": {},
   "outputs": [
    {
     "data": {
      "text/plain": [
       "array([[ 7.7501810e-01, -1.9650115e-02, -2.7785739e+02],\n",
       "       [-3.1973630e-01,  7.4462152e-01,  1.6014401e+02],\n",
       "       [-4.2425343e-04, -1.1669054e-04,  1.0000000e+00]], dtype=float32)"
      ]
     },
     "execution_count": 187,
     "metadata": {},
     "output_type": "execute_result"
    }
   ],
   "source": [
    "hl_optimized = hl_optimized.detach().reshape(3,3).numpy()\n",
    "hl_optimized = hl_optimized/(hl_optimized[2,2])\n",
    "hl_optimized"
   ]
  },
  {
   "cell_type": "markdown",
   "metadata": {},
   "source": [
    "### Final Visualization"
   ]
  },
  {
   "cell_type": "code",
   "execution_count": 190,
   "metadata": {},
   "outputs": [],
   "source": [
    "P1_r = P1_r.detach().numpy()\n",
    "P1_l = P1_l.detach().numpy()"
   ]
  },
  {
   "cell_type": "code",
   "execution_count": 192,
   "metadata": {},
   "outputs": [
    {
     "data": {
      "text/plain": [
       "Text(0.5, 1.0, 'Final Result - left camera')"
      ]
     },
     "execution_count": 192,
     "metadata": {},
     "output_type": "execute_result"
    },
    {
     "data": {
      "image/png": "[encoded data removed]",
      "text/plain": [
       "<Figure size 1080x360 with 2 Axes>"
      ]
     },
     "metadata": {},
     "output_type": "display_data"
    }
   ],
   "source": [
    "IDX = 90\n",
    "show_only = slice(48 * IDX, 48 * (IDX + 1))\n",
    "fig, (ax1,ax2) = plt.subplots(1,2, sharey=True,figsize=(15,5))\n",
    "ax1.scatter(*normalize(P2_r)[:2, show_only], s=3)\n",
    "ax1.scatter(*normalize(hr_optimized @ P1_r)[:2, show_only], s=3)\n",
    "ax1.set_title('Final Result - right camera')\n",
    "ax2.scatter(*normalize(P2_l)[:2, show_only], s=3)\n",
    "ax2.scatter(*normalize(hl_optimized @ P1_l)[:2, show_only], s=3)\n",
    "ax2.set_title('Final Result - left camera')"
   ]
  },
  {
   "cell_type": "code",
   "execution_count": 193,
   "metadata": {},
   "outputs": [
    {
     "data": {
      "text/plain": [
       "(array([[-1.4234242e-01,  2.8220055e+00,  2.6443402e+02],\n",
       "        [-8.9791119e-01,  3.9870169e+00, -4.5271432e+02],\n",
       "        [-4.4160392e-03,  5.5601574e-03,  1.0000000e+00]], dtype=float32),\n",
       " array([[ 7.7501810e-01, -1.9650115e-02, -2.7785739e+02],\n",
       "        [-3.1973630e-01,  7.4462152e-01,  1.6014401e+02],\n",
       "        [-4.2425343e-04, -1.1669054e-04,  1.0000000e+00]], dtype=float32))"
      ]
     },
     "execution_count": 193,
     "metadata": {},
     "output_type": "execute_result"
    }
   ],
   "source": [
    "hr_optimized,hl_optimized"
   ]
  },
  {
   "cell_type": "code",
   "execution_count": null,
   "metadata": {},
   "outputs": [],
   "source": []
  }
 ],
 "metadata": {
  "kernelspec": {
   "display_name": "Python 3",
   "language": "python",
   "name": "python3"
  },
  "language_info": {
   "codemirror_mode": {
    "name": "ipython",
    "version": 3
   },
   "file_extension": ".py",
   "mimetype": "text/x-python",
   "name": "python",
   "nbconvert_exporter": "python",
   "pygments_lexer": "ipython3",
   "version": "3.6.9"
  }
 },
 "nbformat": 4,
 "nbformat_minor": 2
}
